{
 "cells": [
  {
   "cell_type": "markdown",
   "metadata": {},
   "source": [
    "# Volumetric data\n",
    "体积数据？  \n",
    "文中举了一个生动形象的例子：CT  \n",
    "CT扫描过程中产生了一张张切片slice图片 - 2D数据\n",
    "这些2D数据有一定的密度，通过增加一个维度-depth，可以将其转换为3D数据  \n",
    "区别就是：你在channel维度外，又增加了一个depth维度 —— $N\\cdot C\\cdot D\\cdot H\\cdot W$"
   ]
  },
  {
   "cell_type": "markdown",
   "metadata": {},
   "source": [
    "可以使用imageio模块的volread函数进行读取，不过这个数据集比较难下载，可以尝试一下：  \n",
    "https://github.com/deep-learning-with-pytorch/dlwpt-code/tree/master/data/p1ch4/volumetric-dicom/2-LUNG%203.0%20%20B70f-04083"
   ]
  },
  {
   "cell_type": "markdown",
   "metadata": {},
   "source": [
    "此外，这样读取的数据格式，主要是维度和上面说的五个维度不对应，需要转换一下 transpose，还要增加一下 unsqueeze"
   ]
  }
 ],
 "metadata": {
  "kernelspec": {
   "display_name": "Python 3",
   "language": "python",
   "name": "python3"
  },
  "language_info": {
   "codemirror_mode": {
    "name": "ipython",
    "version": 3
   },
   "file_extension": ".py",
   "mimetype": "text/x-python",
   "name": "python",
   "nbconvert_exporter": "python",
   "pygments_lexer": "ipython3",
   "version": "3.6.12"
  }
 },
 "nbformat": 4,
 "nbformat_minor": 4
}
